{
 "cells": [
  {
   "cell_type": "code",
   "execution_count": 27,
   "metadata": {},
   "outputs": [],
   "source": [
    "import tweepy\n",
    "import pandas as pd\n",
    "\n",
    "from code import utils, pipelines"
   ]
  },
  {
   "cell_type": "code",
   "execution_count": 4,
   "metadata": {},
   "outputs": [
    {
     "data": {
      "text/plain": [
       "{'CONSUMER_KEY': 'LeQ01zEwJH1df8gh4US5EFZdM',\n",
       " 'CONSUMER_SECRET': '2g9jVjNcopA7LtVfxMELUTDZxDX4zosmMIvTDvLP2cQ4HJsdiN',\n",
       " 'ACCESS_TOKEN': '1324657686265344000-cPmCk6Xro6onRpJ1iQA7YUhEBEWfZR',\n",
       " 'ACCESS_SECRET': 'lglvG7YdjcpWjo5KZr3Ij90SZOLGO2vR9nTFz9zZrFYTS'}"
      ]
     },
     "execution_count": 4,
     "metadata": {},
     "output_type": "execute_result"
    }
   ],
   "source": [
    "credentials = utils.load_credentials('tweepy.json')\n",
    "credentials"
   ]
  },
  {
   "cell_type": "code",
   "execution_count": 5,
   "metadata": {},
   "outputs": [],
   "source": [
    "auth, api = utils.setup_tweepy(credentials)"
   ]
  },
  {
   "cell_type": "code",
   "execution_count": 6,
   "metadata": {},
   "outputs": [],
   "source": [
    "f = open(\"data/media.txt\")"
   ]
  },
  {
   "cell_type": "code",
   "execution_count": 7,
   "metadata": {},
   "outputs": [],
   "source": [
    "lines = f.readlines()"
   ]
  },
  {
   "cell_type": "code",
   "execution_count": 8,
   "metadata": {},
   "outputs": [],
   "source": [
    "def clean_line(line):\n",
    "    line = line.split('\\t')\n",
    "    line[-1] = line[-1][:-1]\n",
    "    \n",
    "    return line"
   ]
  },
  {
   "cell_type": "code",
   "execution_count": 9,
   "metadata": {},
   "outputs": [],
   "source": [
    "data = pd.DataFrame(columns=clean_line(lines[0]))"
   ]
  },
  {
   "cell_type": "code",
   "execution_count": 10,
   "metadata": {},
   "outputs": [],
   "source": [
    "for line in lines[1:]:\n",
    "    data = data.append(pd.Series(clean_line(line), index = data.columns), ignore_index=True)"
   ]
  },
  {
   "cell_type": "code",
   "execution_count": 11,
   "metadata": {},
   "outputs": [
    {
     "data": {
      "text/html": [
       "<div>\n",
       "<style scoped>\n",
       "    .dataframe tbody tr th:only-of-type {\n",
       "        vertical-align: middle;\n",
       "    }\n",
       "\n",
       "    .dataframe tbody tr th {\n",
       "        vertical-align: top;\n",
       "    }\n",
       "\n",
       "    .dataframe thead th {\n",
       "        text-align: right;\n",
       "    }\n",
       "</style>\n",
       "<table border=\"1\" class=\"dataframe\">\n",
       "  <thead>\n",
       "    <tr style=\"text-align: right;\">\n",
       "      <th></th>\n",
       "      <th>State</th>\n",
       "      <th>Chamber of Congress</th>\n",
       "      <th>Name</th>\n",
       "      <th>Party</th>\n",
       "      <th>Twitter</th>\n",
       "      <th>Instagram</th>\n",
       "      <th>Facebook Page</th>\n",
       "      <th>screen_name</th>\n",
       "    </tr>\n",
       "  </thead>\n",
       "  <tbody>\n",
       "    <tr>\n",
       "      <th>0</th>\n",
       "      <td>Alabama</td>\n",
       "      <td>Senator</td>\n",
       "      <td>Richard Shelby</td>\n",
       "      <td>R</td>\n",
       "      <td>@SenShelby</td>\n",
       "      <td>@senatorshelby</td>\n",
       "      <td>x</td>\n",
       "      <td>SenShelby</td>\n",
       "    </tr>\n",
       "    <tr>\n",
       "      <th>1</th>\n",
       "      <td>Alabama</td>\n",
       "      <td>Senator</td>\n",
       "      <td>Doug Jones</td>\n",
       "      <td>D</td>\n",
       "      <td>@DougJones</td>\n",
       "      <td>@dougjonesbama</td>\n",
       "      <td>x</td>\n",
       "      <td>DougJones</td>\n",
       "    </tr>\n",
       "    <tr>\n",
       "      <th>2</th>\n",
       "      <td>Alabama 1st District</td>\n",
       "      <td>Representative</td>\n",
       "      <td>Byrne, Bradley</td>\n",
       "      <td>R</td>\n",
       "      <td>@RepByrne</td>\n",
       "      <td>@repbyrne</td>\n",
       "      <td>x</td>\n",
       "      <td>RepByrne</td>\n",
       "    </tr>\n",
       "    <tr>\n",
       "      <th>3</th>\n",
       "      <td>Alabama 2nd District</td>\n",
       "      <td>U.S. Representative</td>\n",
       "      <td>Roby, Martha</td>\n",
       "      <td>R</td>\n",
       "      <td>@RepMarthaRoby</td>\n",
       "      <td>@martharoby</td>\n",
       "      <td>x</td>\n",
       "      <td>RepMarthaRoby</td>\n",
       "    </tr>\n",
       "    <tr>\n",
       "      <th>4</th>\n",
       "      <td>Alabama 3rd District</td>\n",
       "      <td>U.S. Representative</td>\n",
       "      <td>Rogers, Mike</td>\n",
       "      <td>R</td>\n",
       "      <td>@RepMikeRogersAL</td>\n",
       "      <td>@repmikerogersal</td>\n",
       "      <td>x</td>\n",
       "      <td>RepMikeRogersAL</td>\n",
       "    </tr>\n",
       "  </tbody>\n",
       "</table>\n",
       "</div>"
      ],
      "text/plain": [
       "                  State  Chamber of Congress            Name Party  \\\n",
       "0               Alabama              Senator  Richard Shelby     R   \n",
       "1               Alabama              Senator      Doug Jones     D   \n",
       "2  Alabama 1st District       Representative  Byrne, Bradley     R   \n",
       "3  Alabama 2nd District  U.S. Representative    Roby, Martha     R   \n",
       "4  Alabama 3rd District  U.S. Representative    Rogers, Mike     R   \n",
       "\n",
       "            Twitter         Instagram Facebook Page      screen_name  \n",
       "0        @SenShelby    @senatorshelby             x        SenShelby  \n",
       "1        @DougJones    @dougjonesbama             x        DougJones  \n",
       "2         @RepByrne         @repbyrne             x         RepByrne  \n",
       "3    @RepMarthaRoby       @martharoby             x    RepMarthaRoby  \n",
       "4  @RepMikeRogersAL  @repmikerogersal             x  RepMikeRogersAL  "
      ]
     },
     "execution_count": 11,
     "metadata": {},
     "output_type": "execute_result"
    }
   ],
   "source": [
    "data['screen_name'] = data['Twitter'].apply(lambda x: x[1:])\n",
    "data.head()"
   ]
  },
  {
   "cell_type": "code",
   "execution_count": 12,
   "metadata": {},
   "outputs": [],
   "source": [
    "data.drop_duplicates(subset=['Twitter'], inplace=True)"
   ]
  },
  {
   "cell_type": "code",
   "execution_count": 13,
   "metadata": {},
   "outputs": [],
   "source": [
    "grouped_data = data.groupby('Party')\n",
    "\n",
    "rep_media = grouped_data.get_group('R')\n",
    "dem_media = grouped_data.get_group('D')"
   ]
  },
  {
   "cell_type": "code",
   "execution_count": 14,
   "metadata": {},
   "outputs": [
    {
     "name": "stdout",
     "output_type": "stream",
     "text": [
      "251 282\n"
     ]
    }
   ],
   "source": [
    "print(len(rep_media), len(dem_media))"
   ]
  },
  {
   "cell_type": "code",
   "execution_count": 15,
   "metadata": {},
   "outputs": [],
   "source": [
    "rep_screen_names = rep_media['screen_name']\n",
    "dem_screen_names = dem_media['screen_name']"
   ]
  },
  {
   "cell_type": "code",
   "execution_count": 31,
   "metadata": {},
   "outputs": [
    {
     "name": "stderr",
     "output_type": "stream",
     "text": [
      "100%|██████████| 251/251 [8:23:41<00:00, 120.40s/it]   \n"
     ]
    }
   ],
   "source": [
    "# This takes some time\n",
    "republican_likes, failed = pipelines.like_pipeline(api, rep_screen_names)"
   ]
  },
  {
   "cell_type": "code",
   "execution_count": 36,
   "metadata": {},
   "outputs": [],
   "source": [
    "import pickle\n",
    "\n",
    "with open('republican_likes.pkl', 'wb') as rl:\n",
    "    pickle.dump(republican_likes, rl)"
   ]
  },
  {
   "cell_type": "code",
   "execution_count": 51,
   "metadata": {},
   "outputs": [
    {
     "data": {
      "text/plain": [
       "250"
      ]
     },
     "execution_count": 51,
     "metadata": {},
     "output_type": "execute_result"
    }
   ],
   "source": [
    "len(republican_likes)"
   ]
  },
  {
   "cell_type": "code",
   "execution_count": 39,
   "metadata": {},
   "outputs": [],
   "source": [
    "to_do = ['RepFredKeller', 'SenatorRomney']"
   ]
  },
  {
   "cell_type": "code",
   "execution_count": 40,
   "metadata": {},
   "outputs": [
    {
     "name": "stderr",
     "output_type": "stream",
     "text": [
      "100%|██████████| 2/2 [00:12<00:00,  6.48s/it]\n"
     ]
    }
   ],
   "source": [
    "republican_likes_to_add, failed = pipelines.like_pipeline(api, to_do)"
   ]
  },
  {
   "cell_type": "code",
   "execution_count": 46,
   "metadata": {},
   "outputs": [
    {
     "data": {
      "text/plain": [
       "248"
      ]
     },
     "execution_count": 46,
     "metadata": {},
     "output_type": "execute_result"
    }
   ],
   "source": [
    "len(republican_likes)"
   ]
  },
  {
   "cell_type": "code",
   "execution_count": 47,
   "metadata": {},
   "outputs": [
    {
     "name": "stdout",
     "output_type": "stream",
     "text": [
      "248\n",
      "250\n"
     ]
    }
   ],
   "source": [
    "print(len(republican_likes))\n",
    "republican_likes.extend(republican_likes_to_add)\n",
    "print(len(republican_likes))"
   ]
  },
  {
   "cell_type": "code",
   "execution_count": 48,
   "metadata": {},
   "outputs": [],
   "source": [
    "with open('republican_likes.pkl', 'wb') as rl:\n",
    "    pickle.dump(republican_likes, rl)"
   ]
  },
  {
   "cell_type": "code",
   "execution_count": 49,
   "metadata": {},
   "outputs": [],
   "source": [
    "with open('republican_likes.pkl', 'rb') as rl:\n",
    "    tx = pickle.load(rl)"
   ]
  },
  {
   "cell_type": "code",
   "execution_count": 52,
   "metadata": {},
   "outputs": [
    {
     "data": {
      "text/plain": [
       "250"
      ]
     },
     "execution_count": 52,
     "metadata": {},
     "output_type": "execute_result"
    }
   ],
   "source": [
    "len(tx)"
   ]
  },
  {
   "cell_type": "code",
   "execution_count": null,
   "metadata": {},
   "outputs": [],
   "source": [
    "failed = pipelines.tweet_pipeline(api, rep_screen_names, 'data/rep/')"
   ]
  },
  {
   "cell_type": "code",
   "execution_count": null,
   "metadata": {},
   "outputs": [],
   "source": [
    "to_do = [fail[0] for fail in failed]"
   ]
  },
  {
   "cell_type": "code",
   "execution_count": null,
   "metadata": {},
   "outputs": [],
   "source": [
    "republican_tweets_to_add = pipelines.tweet_pipeline(api, rep_screen_names, 'data/rep/')"
   ]
  }
 ],
 "metadata": {
  "kernelspec": {
   "display_name": "Python 3",
   "language": "python",
   "name": "python3"
  },
  "language_info": {
   "codemirror_mode": {
    "name": "ipython",
    "version": 3
   },
   "file_extension": ".py",
   "mimetype": "text/x-python",
   "name": "python",
   "nbconvert_exporter": "python",
   "pygments_lexer": "ipython3",
   "version": "3.8.5"
  }
 },
 "nbformat": 4,
 "nbformat_minor": 4
}
